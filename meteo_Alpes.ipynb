{
 "cells": [
  {
   "cell_type": "markdown",
   "id": "cfd6ae30",
   "metadata": {},
   "source": [
    "# Le changement climatique peut il être observé dans les Alpes?\n",
    "\n",
    "## Consignes\n",
    "\n",
    "Ce TP peut être réalisé sur [MyDocker]. XX TODO ADD\n",
    "Vous devrez rendre ce notebook avec les fonctions/ votre script python ainsi qu'un compte-rendu de 8 pages maximum dans lequel vous répondrez aux questions.\n",
    "**Le compte-rendu au format PDF et le notebook** sont à rendre par email avant le prochain cours soit **lundi 17 janvier 23h59**. J'ouvrirai mes mails au réveil, et à partir de là, -2 points par heure de retard.\n",
    "\n",
    "## Introduction\n",
    "\n",
    "En science des données vous devrez préparer les données, les analyser (statistiquement) et produire des figures pertinentes dans l'objectif de répondre à différentes questions.\n",
    "\n",
    "Dans ce TP, on se demande si le changement climatique est visible dans les Alpes et nous mettrons en lien les observations avec les analyses des flux hydrométriques (= le force du courant dans les rivières) dans cette région. \n",
    "\n",
    "Pour ce faire nous allons commencer par étudier l'évolution de la météo au cours des dernières décennies. Météo France, l'organisme national de météorologie en France, a déposé des données climatologiques par département avec de nombreux paramètres disponibles sur le site [data.gouv](https://www.data.gouv.fr/fr/datasets/donnees-climatologiques-de-base-quotidiennes/).\n",
    "\n",
    "Dans un second temps, nous étudierons l'évolution des débits de l'Arve (une rivière) en lien avec le changement climatique et la fonte des glaciers aux alentours du Mont-Blanc (un massif *relativement* connu des Alpes). Le papier a été publié dans Scientific Reports en 2020 et est disponible [ici](https://doi.org/10.1038/s41598-020-67379-7).\n",
    "\n",
    "## Chargement des librairies"
   ]
  },
  {
   "cell_type": "markdown",
   "id": "5b7bca8a",
   "metadata": {},
   "source": [
    "Voici quelques librairies dont vous aurez très probablement besoin, n'hésitez pas a en ajouter d'autres !"
   ]
  },
  {
   "cell_type": "code",
   "execution_count": null,
   "id": "32095e33",
   "metadata": {},
   "outputs": [],
   "source": [
    "import pandas as pd\n",
    "import numpy as np\n",
    "import matplotlib.pyplot as plt\n",
    "import seaborn as sns\n",
    "from IPython.display import display\n",
    "\n",
    "%matplotlib inline\n",
    "!pip install folium\n",
    "import folium\n",
    "\n",
    "\n",
    "from sklearn.model_selection import train_test_split\n",
    "from sklearn.linear_model import LinearRegression\n"
   ]
  },
  {
   "cell_type": "markdown",
   "id": "9e3e05e0",
   "metadata": {},
   "source": [
    "## Optimisation du code\n",
    "\n",
    "Pensez à optimiser votre code pour améliorer l'efficacité, en particulier lorsqu'il s'agit de manipuler de grandes quantités de données. Utilisez des fonctions pour que vous puissiez refaire la même analyse avec un autre département."
   ]
  },
  {
   "cell_type": "markdown",
   "id": "ea03b982",
   "metadata": {},
   "source": [
    "# PARTIE 1: Données climatiques de Météo France\n",
    "\n",
    "## Chargement du jeu de données \n",
    "\n",
    "Commencez par récupérer sur le site des données publiques francaises, les données quotidiennes de météo entre 1950 et 2022 en Haute-Savoie où se situe le Mont-Blanc (département n°74) sur le site [data.gouv](https://www.data.gouv.fr/fr/datasets/donnees-climatologiques-de-base-quotidiennes/).\n",
    "\n",
    "On ne s'intéresse pour le moment qu'aux données de température et de précipitation.\n",
    "\n",
    "Quand vous êtes prête ou prêt, chargez la table d'intéret dans la variable `meteo`.\n",
    "\n",
    "*Indication :* Pour trouver quel fichier télécharger, lisez la documentation!"
   ]
  },
  {
   "cell_type": "code",
   "execution_count": null,
   "id": "7eadb756",
   "metadata": {},
   "outputs": [],
   "source": [
    "meteo = pd.read_csv(\"Q_74_previous-1950-2023_RR-T-Vent.csv\", sep =';')\n",
    "#print(meteo.head())\n",
    "display(meteo.head(10).style.set_table_styles(\n",
    "    [{'selector': 'th', 'props': [('font-size', '12pt'), ('text-align', 'center')]},\n",
    "     {'selector': 'td', 'props': [('font-size', '10pt'), ('text-align', 'center')]}]\n",
    "))"
   ]
  },
  {
   "cell_type": "markdown",
   "id": "66be8f37",
   "metadata": {},
   "source": [
    "## Exploration des données\n",
    "\n",
    "Décrivez la table. Par exempl,e répondez aux questions suivantes:\n",
    "\n",
    "- Quelle sont les dimensions de `meteo` ?\n",
    "- Combien y a-t-il de postes météorologiques ? \n",
    "    \n",
    "Vos réponses sont à rédiger dans le compte-rendu pas dans le notebook, ici je n'évaluerai que les fonctions!"
   ]
  },
  {
   "cell_type": "code",
   "execution_count": null,
   "id": "d9886fa2",
   "metadata": {},
   "outputs": [],
   "source": [
    "dim = meteo.shape\n",
    "print(dim)\n",
    "\n",
    "nbr_poste = meteo['NUM_POSTE'].nunique()\n",
    "print(nbr_poste)"
   ]
  },
  {
   "cell_type": "code",
   "execution_count": null,
   "id": "a2e830f8",
   "metadata": {},
   "outputs": [],
   "source": [
    "print(meteo.columns)\n"
   ]
  },
  {
   "cell_type": "code",
   "execution_count": null,
   "id": "9e8f5f7d",
   "metadata": {},
   "outputs": [],
   "source": [
    "meteo.describe()"
   ]
  },
  {
   "cell_type": "markdown",
   "id": "3718ed25",
   "metadata": {},
   "source": [
    "**Gestion des valeurs manquantes et filtration**\n",
    "\n",
    "- Quelles colonnes allez vous sélectionner pour notre étude ? Pour rappel, on va étudier l'évolution de la température et des précipitations depuis les années 1950 dans les Alpes.\n",
    "*Indication:* La localisation des postes pourra être utile.\n",
    "- Créer la table `meteo_cleaned` avec les colonnes d'interet et sans données manquantes.\n",
    "- Faites une première analyse sur les informations statistiques de base sur les données (moyenne, médiane, écart-type, etc.).\n"
   ]
  },
  {
   "cell_type": "code",
   "execution_count": null,
   "id": "dc7d8617",
   "metadata": {},
   "outputs": [],
   "source": [
    "meteo = meteo.rename(columns={\n",
    "    \"AAAAMMJJ\": \"Date\", \"RR\": \"Précipitations\", \"TNTXM\": \"TNTXM\",\n",
    "    \"LAT\": \"Latitude\", \"LON\": \"Longitude\", \"ALTI\": \"Altitude\", \n",
    "    \"NOM_USUEL\": \"Nom_poste\", \"NUM_POSTE\": \"NUM_POSTE\"\n",
    "})\n"
   ]
  },
  {
   "cell_type": "code",
   "execution_count": null,
   "id": "2f429b31",
   "metadata": {},
   "outputs": [],
   "source": [
    "colonnes_interet = [\"Date\", \"Précipitations\", \"TNTXM\", \n",
    "                    \"Latitude\", \"Longitude\", \"Altitude\", \n",
    "                    \"Nom_poste\", \"NUM_POSTE\"]\n",
    "\n",
    "# Sélection des colonnes\n",
    "meteo = meteo[colonnes_interet]\n",
    "\n",
    "# Remplacement des valeurs manquantes\n",
    "#meteo[\"Précipitations\"] = meteo[\"Précipitations\"].fillna(0)\n",
    "#meteo[\"Température_moyenne\"] = meteo[\"Température_moyenne\"].fillna(meteo[\"Température_moyenne\"].mean())\n",
    "#meteo[\"Température_maximale\"] = meteo[\"Température_maximale\"].fillna(meteo[\"Température_maximale\"].mean())\n",
    "#meteo[\"Température_minimale\"] = meteo[\"Température_minimale\"].fillna(meteo[\"Température_minimale\"].mean())\n",
    "\n",
    "# Nettoyage des données\n",
    "meteo.dropna(subset=['TNTXM'], inplace=True)\n",
    "\n",
    "meteo_cleaned = meteo.copy()\n",
    "\n",
    "\n",
    "# Affichage des premières lignes\n",
    "print(meteo_cleaned.head())\n"
   ]
  },
  {
   "cell_type": "code",
   "execution_count": null,
   "id": "906e336b",
   "metadata": {},
   "outputs": [],
   "source": [
    "print(meteo_cleaned.columns)\n"
   ]
  },
  {
   "cell_type": "code",
   "execution_count": null,
   "id": "f75afaa8",
   "metadata": {},
   "outputs": [],
   "source": [
    "stats = meteo_cleaned[[\"Précipitations\", \"TNTXM\"]].describe()\n",
    "print(\"\\nAnalyse statistique :\")\n",
    "print(stats)"
   ]
  },
  {
   "cell_type": "code",
   "execution_count": null,
   "id": "6d84c383",
   "metadata": {},
   "outputs": [],
   "source": [
    "meteo_cleaned.columns"
   ]
  },
  {
   "cell_type": "code",
   "execution_count": null,
   "id": "92b150c5",
   "metadata": {},
   "outputs": [],
   "source": [
    "meteo_cleaned.shape"
   ]
  },
  {
   "cell_type": "code",
   "execution_count": null,
   "id": "fcc471c0",
   "metadata": {},
   "outputs": [],
   "source": [
    "meteo_cleaned.describe()"
   ]
  },
  {
   "cell_type": "markdown",
   "id": "b49edae4",
   "metadata": {},
   "source": [
    "- Combien de stations restent dans notre étude ? Où se situent-elles ?"
   ]
  },
  {
   "cell_type": "code",
   "execution_count": null,
   "id": "0caf8cd8",
   "metadata": {},
   "outputs": [],
   "source": [
    "stations_restantes = meteo_cleaned['NUM_POSTE'].nunique()\n",
    "print(f\"Nombre de stations restantes dans l'étude : {stations_restantes}\")\n"
   ]
  },
  {
   "cell_type": "code",
   "execution_count": null,
   "id": "05498196",
   "metadata": {},
   "outputs": [],
   "source": [
    "stations_localisation = meteo_cleaned[['NUM_POSTE', 'Nom_poste', 'Latitude', 'Longitude', 'Altitude']].drop_duplicates()\n",
    "print(stations_localisation)\n"
   ]
  },
  {
   "cell_type": "code",
   "execution_count": null,
   "id": "5a3d68b7",
   "metadata": {},
   "outputs": [],
   "source": [
    "\n",
    "plt.figure(figsize=(10, 6))\n",
    "plt.scatter(stations_localisation['Longitude'], stations_localisation['Latitude'], c='blue', alpha=0.7)\n",
    "plt.title('Localisation des stations restantes')\n",
    "plt.xlabel('Longitude')\n",
    "plt.ylabel('Latitude')\n",
    "plt.grid()\n",
    "plt.show()\n"
   ]
  },
  {
   "cell_type": "code",
   "execution_count": null,
   "id": "5f7cf14f",
   "metadata": {},
   "outputs": [],
   "source": [
    "\n",
    "center_lat = stations_localisation['Latitude'].mean()\n",
    "center_lon = stations_localisation['Longitude'].mean()\n",
    "\n",
    "map_stations = folium.Map(location=[center_lat, center_lon], zoom_start=6)\n",
    "\n",
    "for _, row in stations_localisation.iterrows():\n",
    "    folium.Marker(\n",
    "        location=[row['Latitude'], row['Longitude']],\n",
    "        popup=f\"Station: {row['Nom_poste']} ({row['NUM_POSTE']})\",\n",
    "    ).add_to(map_stations)\n",
    "\n",
    "map_stations\n"
   ]
  },
  {
   "cell_type": "markdown",
   "id": "77d5205f",
   "metadata": {},
   "source": [
    "## Analyse des données"
   ]
  },
  {
   "cell_type": "markdown",
   "id": "2c39dba3",
   "metadata": {},
   "source": [
    "### Tendances annuelles\n",
    "\n",
    "Quelles sont les tendances annuelles dans les données météorologiques depuis 1950 ? La température moyenne a-t-elle changée ? Est-ce qu'il y a plus ou moins de précipitations ?\n",
    "\n",
    "Faites une analyse (calcul de moyenne, tests de regressions etc) pour répondre à la question. Ci-dessous voici les principales étapes à effectuer:\n",
    "- Transformez la colonne date pour que vous puissiez l'exploiter facilement\n",
    "- Calculez les températures et précipitations moyennes annuelles\n",
    "- Faites une régression linéaire pour estimer l'évolution de ces valeurs. Utilisez scikit-learn comme appris en L1 ISD.\n",
    "- Evaluez la performance de vos modèles de prédiction. Pour cela, vous pourrez par exemple utiliser les métriques disponibles dans `sklearn.metrics`.\n",
    "- La régression est-elle pertinente pour la température ? Pour les précipitations ?\n",
    "- Auriez-vous un autre modèle plus pertinent qu'une régression linéaire à proposer ? N'hésitez pas à l'**ajouter**.\n",
    "- Crééz également un ou plusieurs graphiques pour représenter les variations des paramètres météorologiques au fil du temps.\n",
    "\n",
    "Si besoin vous pouvez charger de nouvelles librairies."
   ]
  },
  {
   "cell_type": "code",
   "execution_count": null,
   "id": "324dbfa5",
   "metadata": {},
   "outputs": [],
   "source": [
    "# Faire une copie explicite du DataFrame\n",
    "meteo_cleaned = meteo_cleaned.copy()\n",
    "\n",
    "# Conversion de la colonne Date en format datetime\n",
    "meteo_cleaned[\"Date\"] = pd.to_datetime(meteo_cleaned[\"Date\"], format='%Y%m%d')\n",
    "\n",
    "# Extraction de l'année\n",
    "meteo_cleaned[\"Année\"] = meteo_cleaned[\"Date\"].dt.year\n"
   ]
  },
  {
   "cell_type": "code",
   "execution_count": null,
   "id": "fc30ee88",
   "metadata": {},
   "outputs": [],
   "source": [
    "print(meteo_cleaned[\"Année\"].unique())\n"
   ]
  },
  {
   "cell_type": "code",
   "execution_count": null,
   "id": "665b5a3e",
   "metadata": {},
   "outputs": [],
   "source": [
    "# Calcul des moyennes annuelles\n",
    "moyennes_annuelles = meteo_cleaned.groupby(\"Année\")[[\"TNTXM\", \"Précipitations\"]].mean().reset_index()\n",
    "print(moyennes_annuelles.head())\n"
   ]
  },
  {
   "cell_type": "code",
   "execution_count": null,
   "id": "780506a5",
   "metadata": {},
   "outputs": [],
   "source": [
    "print(moyennes_annuelles.columns)\n"
   ]
  },
  {
   "cell_type": "code",
   "execution_count": null,
   "id": "e447dc1d",
   "metadata": {},
   "outputs": [],
   "source": [
    "plt.figure(figsize=(20, 6))\n",
    "plt.plot(moyennes_annuelles['Année'], moyennes_annuelles['TNTXM'])\n",
    "plt.xlabel('Année')\n",
    "plt.ylabel('Température')\n",
    "plt.title('La Température Annuelle Moyenne ')\n",
    "plt.show()"
   ]
  },
  {
   "cell_type": "code",
   "execution_count": null,
   "id": "054f65d8",
   "metadata": {},
   "outputs": [],
   "source": [
    "plt.figure(figsize=(20, 6))\n",
    "plt.plot(moyennes_annuelles['Année'], moyennes_annuelles['Précipitations'])\n",
    "plt.xlabel('Année')\n",
    "plt.ylabel('Précipitation')\n",
    "plt.title('Précipitation moyenne annuelle ')\n",
    "plt.show()"
   ]
  },
  {
   "cell_type": "code",
   "execution_count": null,
   "id": "3f74bda9",
   "metadata": {},
   "outputs": [],
   "source": [
    "year_avg = pd.pivot_table(meteo_cleaned, values='TNTXM', index='Année', aggfunc='mean')\n",
    "year_avg['10 Years MA'] = year_avg['TNTXM'].rolling(10).mean() ## j'ai appliqué un moving avearge de 10 \n",
    "year_avg[['TNTXM','10 Years MA']].plot(figsize=(20,6))\n",
    "plt.title('Variation de la temperature')\n",
    "plt.xlabel('Année')\n",
    "plt.ylabel('Temperature')\n",
    "plt.xticks([x for x in range(1950,2022,3)])\n",
    "plt.show()"
   ]
  },
  {
   "cell_type": "code",
   "execution_count": null,
   "id": "39e1d25c",
   "metadata": {},
   "outputs": [],
   "source": [
    "#Gestion des valeurs abérrantes\n",
    "num_atts = num_atts = ['TNTXM', 'Précipitations']\n",
    "\n",
    "fig, axes = plt.subplots(1, 2, figsize=(20, 10)) \n",
    "\n",
    "for i, att in enumerate(num_atts):\n",
    "    sns.boxplot(ax=axes[i], x=att, data=meteo_cleaned)\n",
    "\n",
    "plt.show()"
   ]
  },
  {
   "cell_type": "code",
   "execution_count": null,
   "id": "4ed8a1c8",
   "metadata": {},
   "outputs": [],
   "source": [
    "iqr = meteo_cleaned['TNTXM'].quantile(0.75) - meteo_cleaned['TNTXM'].quantile(0.25)\n",
    "l1 = meteo_cleaned['TNTXM'].quantile(0.25) - 1.5*iqr\n",
    "l2 = meteo_cleaned['TNTXM'].quantile(0.75) + 1.5*iqr\n",
    "\n",
    "\n",
    "data_1 = meteo_cleaned[np.logical_and(meteo_cleaned['TNTXM'] < l2, meteo_cleaned['TNTXM'] > l1)]\n",
    "data_1.describe(include = 'all')\n",
    "data_1 = data_1.copy()\n",
    "data_1.head()"
   ]
  },
  {
   "cell_type": "code",
   "execution_count": null,
   "id": "6ce44c04",
   "metadata": {},
   "outputs": [],
   "source": [
    "from sklearn.linear_model import LinearRegression\n",
    "from sklearn.metrics import mean_squared_error, r2_score\n",
    "import numpy as np\n",
    "\n",
    "# Modèle pour la température moyenne\n",
    "X_temp = moyennes_annuelles[\"Année\"].values.reshape(-1, 1)\n",
    "y_temp = moyennes_annuelles[\"TNTXM\"].values\n",
    "\n",
    "# Modèle pour les précipitations\n",
    "X_precip = moyennes_annuelles[\"Année\"].values.reshape(-1, 1)\n",
    "y_precip = moyennes_annuelles[\"Précipitations\"].values\n",
    "\n",
    "# Régression linéaire pour la température\n",
    "model_temp = LinearRegression()\n",
    "model_temp.fit(X_temp, y_temp)\n",
    "y_temp_pred = model_temp.predict(X_temp)\n",
    "\n",
    "# Régression linéaire pour les précipitations\n",
    "model_precip = LinearRegression()\n",
    "model_precip.fit(X_precip, y_precip)\n",
    "y_precip_pred = model_precip.predict(X_precip)\n",
    "\n",
    "# Évaluation des modèles\n",
    "mse_temp = mean_squared_error(y_temp, y_temp_pred)\n",
    "r2_temp = r2_score(y_temp, y_temp_pred)\n",
    "\n",
    "mse_precip = mean_squared_error(y_precip, y_precip_pred)\n",
    "r2_precip = r2_score(y_precip, y_precip_pred)\n",
    "\n",
    "print(\"Température :\")\n",
    "print(f\"MSE : {mse_temp}, R² : {r2_temp}\")\n",
    "\n",
    "print(\"\\nPrécipitations :\")\n",
    "print(f\"MSE : {mse_precip}, R² : {r2_precip}\")\n"
   ]
  },
  {
   "cell_type": "code",
   "execution_count": null,
   "id": "26ba2f91",
   "metadata": {},
   "outputs": [],
   "source": [
    "import matplotlib.pyplot as plt\n",
    "\n",
    "# Visualisation des tendances\n",
    "plt.figure(figsize=(12, 6))\n",
    "\n",
    "# Température moyenne\n",
    "plt.subplot(1, 2, 1)\n",
    "plt.scatter(moyennes_annuelles[\"Année\"], moyennes_annuelles[\"TNTXM\"], color='blue', label='Données')\n",
    "plt.plot(moyennes_annuelles[\"Année\"], y_temp_pred, color='red', label='Régression linéaire')\n",
    "plt.xlabel(\"Année\")\n",
    "plt.ylabel(\"Température moyenne\")\n",
    "plt.title(\"Tendance de la température moyenne\")\n",
    "plt.legend()\n",
    "\n",
    "# Précipitations\n",
    "plt.subplot(1, 2, 2)\n",
    "plt.scatter(moyennes_annuelles[\"Année\"], moyennes_annuelles[\"Précipitations\"], color='green', label='Données')\n",
    "plt.plot(moyennes_annuelles[\"Année\"], y_precip_pred, color='orange', label='Régression linéaire')\n",
    "plt.xlabel(\"Année\")\n",
    "plt.ylabel(\"Précipitations moyennes\")\n",
    "plt.title(\"Tendance des précipitations moyennes\")\n",
    "plt.legend()\n",
    "\n",
    "plt.tight_layout()\n",
    "plt.show()\n"
   ]
  },
  {
   "cell_type": "code",
   "execution_count": null,
   "id": "f5ebad10",
   "metadata": {},
   "outputs": [],
   "source": [
    "from sklearn.preprocessing import PolynomialFeatures\n",
    "from sklearn.linear_model import LinearRegression\n",
    "from sklearn.metrics import mean_squared_error, r2_score\n",
    "import matplotlib.pyplot as plt\n",
    "\n",
    "# Transformation polynomiale\n",
    "degree = 3  # Choisis le degré du polynôme\n",
    "poly = PolynomialFeatures(degree=degree)\n",
    "X_poly = poly.fit_transform(X_temp)  # Transformation de X_temp pour inclure les termes polynomiaux\n",
    "\n",
    "# Modèle de régression linéaire avec les nouvelles données\n",
    "poly_model = LinearRegression()\n",
    "poly_model.fit(X_poly, y_temp)\n",
    "\n",
    "# Prédictions\n",
    "y_poly_pred = poly_model.predict(X_poly)\n",
    "\n",
    "# Évaluation du modèle\n",
    "mse_poly = mean_squared_error(y_temp, y_poly_pred)\n",
    "r2_poly = r2_score(y_temp, y_poly_pred)\n",
    "\n",
    "# Affichage des résultats\n",
    "print(f\"Régression polynomiale (degré {degree}) :\")\n",
    "print(f\"MSE : {mse_poly}\")\n",
    "print(f\"R² : {r2_poly}\")\n",
    "\n",
    "# Visualisation des données et des prédictions\n",
    "plt.scatter(X_temp, y_temp, color='blue', label='Données réelles')\n",
    "plt.plot(X_temp, y_poly_pred, color='red', label='Prédictions (polynomiale)')\n",
    "plt.xlabel('Année')\n",
    "plt.ylabel('Température moyenne')\n",
    "plt.title('Régression polynomiale (degré 3)')\n",
    "plt.legend()\n",
    "plt.show()\n"
   ]
  },
  {
   "cell_type": "code",
   "execution_count": null,
   "id": "f59bde12",
   "metadata": {},
   "outputs": [],
   "source": [
    "from sklearn.ensemble import RandomForestRegressor\n",
    "from sklearn.model_selection import train_test_split\n",
    "\n",
    "# Séparer les données en ensembles d'entraînement et de test\n",
    "X_temp_train, X_temp_test, y_temp_train, y_temp_test = train_test_split(\n",
    "    X_temp, y_temp, test_size=0.2, random_state=42\n",
    ")\n",
    "X_precip_train, X_precip_test, y_precip_train, y_precip_test = train_test_split(\n",
    "    X_precip, y_precip, test_size=0.2, random_state=42\n",
    ")\n",
    "\n",
    "# Modèle : Forêt Aléatoire pour la Température\n",
    "rf_temp = RandomForestRegressor(n_estimators=100, random_state=42)\n",
    "rf_temp.fit(X_temp_train, y_temp_train)\n",
    "y_temp_rf_pred = rf_temp.predict(X_temp_test)\n",
    "\n",
    "# Modèle : Forêt Aléatoire pour les Précipitations\n",
    "rf_precip = RandomForestRegressor(n_estimators=100, random_state=42)\n",
    "rf_precip.fit(X_precip_train, y_precip_train)\n",
    "y_precip_rf_pred = rf_precip.predict(X_precip_test)\n",
    "\n",
    "# Évaluation des modèles Forêt Aléatoire\n",
    "mse_rf_temp = mean_squared_error(y_temp_test, y_temp_rf_pred)\n",
    "r2_rf_temp = r2_score(y_temp_test, y_temp_rf_pred)\n",
    "\n",
    "mse_rf_precip = mean_squared_error(y_precip_test, y_precip_rf_pred)\n",
    "r2_rf_precip = r2_score(y_precip_test, y_precip_rf_pred)\n",
    "\n",
    "print(\"\\nForêt Aléatoire - Température :\")\n",
    "print(f\"MSE : {mse_rf_temp:.4f}, R² : {r2_rf_temp:.4f}\")\n",
    "\n",
    "print(\"\\nForêt Aléatoire - Précipitations :\")\n",
    "print(f\"MSE : {mse_rf_precip:.4f}, R² : {r2_rf_precip:.4f}\")\n"
   ]
  },
  {
   "cell_type": "markdown",
   "id": "b8c7bff3",
   "metadata": {},
   "source": [
    "### Prévisions\n",
    "\n",
    "Quelle température fera-t-il en 2100 selon votre modèle ?\n"
   ]
  },
  {
   "cell_type": "code",
   "execution_count": null,
   "id": "91bf7784",
   "metadata": {},
   "outputs": [],
   "source": [
    "from sklearn.linear_model import LinearRegression\n",
    "\n",
    "# Entraîner un modèle de régression linéaire\n",
    "lin_reg = LinearRegression()\n",
    "lin_reg.fit(X_temp_train, y_temp_train)\n",
    "\n",
    "# Prédire la température pour l'année 2100\n",
    "X_2100 = [[2100]]  # L'année seule comme caractéristique\n",
    "y_2100_pred = lin_reg.predict(X_2100)\n",
    "\n",
    "print(f\"Température prédite en 2100 : {y_2100_pred[0]:.2f}°C\")\n"
   ]
  },
  {
   "cell_type": "markdown",
   "id": "2a4e40bc",
   "metadata": {},
   "source": [
    "### Variabilité saisonnière \n",
    "\n",
    "Analysez la variabilité saisonnière des données. \n",
    "\n",
    "- Manipulez les données pour les regrouper mois par mois. Y a-t-il des tendances ? Correspondent-elles à vos connaissances ?\n",
    "- N'oubliez pas de visualisez les données\n",
    "- Enfin si vous êtes à l'aise, étudiez en plus les épisodes de fortes chaleurs (températures > 28°C). Est-ce qu'il y en a plus souvent plus récemment?\n",
    "\n"
   ]
  },
  {
   "cell_type": "code",
   "execution_count": null,
   "id": "ff932b0f",
   "metadata": {},
   "outputs": [],
   "source": [
    "meteo_cleaned.columns"
   ]
  },
  {
   "cell_type": "code",
   "execution_count": null,
   "id": "b5bc8246",
   "metadata": {},
   "outputs": [],
   "source": [
    "# je vais créer une table pivot pour tracer les températures mensuelles au fil des années\n",
    "meteo_cleaned.set_index('Date', inplace=True)\n",
    "meteo_cleaned['Mois'] = meteo_cleaned.index.month\n",
    "meteo_cleaned['Année'] = meteo_cleaned.index.year"
   ]
  },
  {
   "cell_type": "code",
   "execution_count": null,
   "id": "9caaafd9",
   "metadata": {},
   "outputs": [],
   "source": [
    "pivot = pd.pivot_table(meteo_cleaned, values='TNTXM', index='Mois', columns='Année', aggfunc='mean')\n",
    "pivot.plot(figsize=(20,6))\n",
    "plt.title('Variation de la temperature par mois')\n",
    "plt.xlabel('Mois')\n",
    "plt.ylabel('Temperatures')\n",
    "plt.xticks([x for x in range(1,13)])\n",
    "plt.legend().remove()\n",
    "plt.show()"
   ]
  },
  {
   "cell_type": "code",
   "execution_count": null,
   "id": "8ee449a7",
   "metadata": {},
   "outputs": [],
   "source": [
    "monthly_seasonality = pivot.mean(axis=1)\n",
    "monthly_seasonality.plot(figsize=(20,6))\n",
    "plt.title('Variation de la temperature par mois')\n",
    "plt.xlabel('Mois')\n",
    "plt.ylabel('Temperatures')\n",
    "plt.xticks([x for x in range(1,13)])\n",
    "plt.show()"
   ]
  },
  {
   "cell_type": "code",
   "execution_count": null,
   "id": "c1bc9f04",
   "metadata": {},
   "outputs": [],
   "source": [
    "meteo_cleaned.columns"
   ]
  },
  {
   "cell_type": "code",
   "execution_count": null,
   "id": "347cad9c",
   "metadata": {},
   "outputs": [],
   "source": [
    "#corrélation\n",
    "plt.figure(figsize=(8, 6))\n",
    "plt.scatter(meteo_cleaned['TNTXM'], meteo_cleaned['Précipitations'])\n",
    "plt.title('Graphique de Dispersion entre TNTXM et RR')\n",
    "plt.xlabel('TNTXM')\n",
    "plt.ylabel('RR')\n",
    "plt.show()"
   ]
  },
  {
   "cell_type": "code",
   "execution_count": null,
   "id": "97f0eca2",
   "metadata": {},
   "outputs": [],
   "source": [
    "meteo_cleaned = meteo_cleaned.drop(['Année' , 'NUM_POSTE' , 'Nom_poste' ], axis = 1 ) \n",
    "correlation_matrix = meteo_cleaned.corr()\n",
    "plt.figure(figsize=(12, 8))\n",
    "sns.heatmap(correlation_matrix, annot=True, cmap='coolwarm')\n",
    "plt.title('Matrice de corrélation')\n",
    "plt.show()"
   ]
  },
  {
   "cell_type": "markdown",
   "id": "a57f175e",
   "metadata": {},
   "source": [
    "# PARTIE 2: Evolution des débits de l'Arve\n",
    "\n",
    "\n",
    "Dans cet [article](https://doi.org/10.1038/s41598-020-67379-7), les autrices et les auteurs examinent l'impact du changement climatique et de la perte de masse des glaciers sur l'hydrologie du massif du Mont-Blanc, en particulier sur le bassin versant de la rivière Arve, qui est alimentée par une série de glaciers dans la région. Ils ont utilisé des projections climatiques (scénarios RCP4.5 et RCP8.5) et des simulations de dynamique des glaciers (historiques et futures) combinées a un modèle hydrologique pour étudier l'évolution du débit des rivières à l'échelle du 21e siècle (vus en cours).\n",
    "\n",
    "Vous avez représenté ci-dessous la zone d'étude de l'article avec en panneau (a), la localisation du bassin versant de Sallanches dans les Alpes françaises et la carte des bassins étudiés et en panneau (b), le massif du Mont-Blanc vu de Téléphérique de la Flégère (point noir avec angle de vue sur le plan).\n",
    "![Zone étudiée: Fig 1 du papier](Fig1.png)\n"
   ]
  },
  {
   "cell_type": "markdown",
   "id": "291d8218",
   "metadata": {},
   "source": [
    "Dans leur article, ils commencent par étudier l'évolution des températures et des précipitations à Sallances. Ils montrent qu'il y a une nette augmentation des températures estivales et hivernales dans la région du Mont-Blanc et des modificaions de précipitations. Cela correspond à la figure 2 représentée ci-dessous. **Avez-vous obtenus les mêmes résultats avec votre analyse de la partie 1?**\n",
    "\n",
    "\n",
    "![Fig 2 du papier](Fig2.png)\n",
    "\n"
   ]
  },
  {
   "cell_type": "markdown",
   "id": "2ca27263",
   "metadata": {},
   "source": [
    "Dans cette partie, nous allons reproduire la figure n°3 du papier qui illustre l'évolution des débits saisonniers de la rivière Arve en fonction des scénarios climatiques. La figure présente des courbes pour les débits moyens (en hiver et en été) simulées sous les scénarios RCP4.5 et RCP8.5, à partir de différents modèles climatiques pour la région du Mont-Blanc."
   ]
  },
  {
   "cell_type": "markdown",
   "id": "2cb2c32b",
   "metadata": {},
   "source": [
    "## Chargement des données\n",
    "\n",
    "Dans le dossier `Donnees_Debits/`, vous disposez de données simulées historiques ainsi que de projections futures des débits cumulés (et de leur écart-type) de la rivière Arve (pour chaque scénario climatique). Ces données sont organisées en fonction des saisons (hiver, été ou moyenne annuelle) et des différents scénarios climatiques (historiques, RCP4.5, RCP8.5). \n",
    "Vous disposez également des séries temporelles de débits observés (`Debits_obs_Sal_sans_2902`) pour la saison d'hiver et d'été, qui servent de référence pour la comparaison des simulations."
   ]
  },
  {
   "cell_type": "markdown",
   "id": "69d255a5",
   "metadata": {},
   "source": [
    "**Regardez un peu les données. Quelles sont les dimensions des données historiques et des données de modélisation ?**\n",
    "\n",
    "*Indications: Pour rappel, les deux scénarios RCP font partie des trajectoires d'émissions de gaz à effet de serre utilisées pour projeter les futurs changements climatiques. Pour chacun d'eux, plusieurs modèles climatiques régionaux ont été utilisés pour simuler l'évolution du climat et ensuite du débit de la rivière. Les différents modèles régionaux sont des modèles climatiques spécifiques, souvent *downscalés* (affinés à une échelle régionale) pour mieux simuler les conditions climatiques locales du Mont Blanc. Le processus de downscaling permet d'obtenir des projections climatiques à une résolution spatiale plus fine que celle des modèles climatiques globaux.* \n"
   ]
  },
  {
   "cell_type": "code",
   "execution_count": null,
   "id": "4f5cbbc1",
   "metadata": {},
   "outputs": [],
   "source": [
    "import os\n",
    "\n",
    "# Dossier contenant les fichiers\n",
    "data_folder = \"Donnees_Debits/\"\n",
    "\n",
    "# Fonction 1 : Chargement des fichiers selon le scénario et la saison\n",
    "def load_files(scenario, season):\n",
    "    cum_file = f\"Donnees_Debits/Q_cum_{scenario}_{season}_multimodeles_OK\"\n",
    "    sd_file = f\"Donnees_Debits/Q_sd_{scenario}_{season}_multimodeles_OK\"\n",
    "    cum_data = pd.read_csv(cum_file, sep=',', parse_dates=['Date'])\n",
    "    sd_data = pd.read_csv(sd_file, sep=',', parse_dates=['Date'])\n",
    "\n",
    "    return cum_data, sd_data"
   ]
  },
  {
   "cell_type": "markdown",
   "id": "dd814c59",
   "metadata": {},
   "source": [
    "## Analyse et création de fonctions\n",
    "\n",
    "**Etant donné une saison, faites une fonction qui pour chaque scenario (historique, ou RCP), calcule la moyenne et l'écart-type moyen du débit pour chaque année. Commencez par charger les données et transformer la date pour pouvoir extraire l'année. Dans un second temps, chargez les données observées et extrayez la valeur pour la saison considérée. Puis, reproduisez les graphiques montrant l'évolution du débit moyen pour les saisons d'hiver et d'été, sous les deux scénarios RCP4.5 et RCP8.5, comparés aux données historiques et aux données observées.**\n",
    "\n",
    "Est-ce clair pour vous, quelle est la différence entre les données observées et historiques ?\n"
   ]
  },
  {
   "cell_type": "markdown",
   "id": "f2ae08c9",
   "metadata": {},
   "source": [
    "**Discutez comment le changement climatique impacte les ressources en eau dans les régions montagneuses.**\n",
    "\n"
   ]
  },
  {
   "cell_type": "code",
   "execution_count": null,
   "id": "74b7ecba",
   "metadata": {},
   "outputs": [],
   "source": [
    "# Fonction 2 : Visualisation selon le scénario et la saison\n",
    "def visualize_discharge(scenario, season):\n",
    "    # Charger les fichiers\n",
    "    cum_data, sd_data = load_files(scenario, season)\n",
    "\n",
    "    # Calcul des moyennes annuelles\n",
    "    cum_data_annual = cum_data.groupby('Date').mean().reset_index()\n",
    "    sd_data_annual = sd_data.groupby('Date').mean().reset_index()\n",
    "\n",
    "    # Calculer la moyenne des colonnes de débit\n",
    "    mean_discharge = cum_data_annual.iloc[:, 1:].mean(axis=1)\n",
    "    sd_discharge = sd_data_annual.iloc[:, 1:].mean(axis=1)\n",
    "\n",
    "    # Visualisation avec intervalle SD\n",
    "    plt.figure(figsize=(12, 6))\n",
    "    plt.plot(cum_data_annual['Date'], mean_discharge, label=f'{scenario.upper()} - Mean', linestyle='-', marker='o', color='blue')\n",
    "    plt.fill_between(cum_data_annual['Date'], \n",
    "                     mean_discharge - 2 * sd_discharge, \n",
    "                     mean_discharge + 2 * sd_discharge, \n",
    "                     color='blue', alpha=0.2, label=f'{scenario.upper()} - SD Interval')\n",
    "    plt.title(f'Évolution des débits moyens et SD ({season.capitalize()}) - {scenario.upper()}')\n",
    "    plt.xlabel('Année')\n",
    "    plt.ylabel('Débit (m³/s)')\n",
    "    plt.legend()\n",
    "    plt.grid()\n",
    "    plt.show()\n",
    "\n",
    "# Visualisation groupée par saison\n",
    "def visualize_by_season(season):\n",
    "    \"\"\"\n",
    "    Visualise les débits pour tous les scénarios dans une saison donnée.\n",
    "    :param season: Saison (\"hiver\", \"ete\", \"annuele\").\n",
    "    \"\"\"\n",
    "    plt.figure(figsize=(14, 8))\n",
    "    for scenario in [\"hist\", \"RCP4-5\", \"RCP8-5\"]:\n",
    "        cum_data, sd_data = load_files(scenario, season)\n",
    "\n",
    "        \n",
    "        # Calcul des moyennes annuelles\n",
    "        cum_data_annual = cum_data.groupby('Date').mean().reset_index()\n",
    "        sd_data_annual = sd_data.groupby('Date').mean().reset_index()\n",
    "\n",
    "        # Calculer la moyenne des colonnes de débit\n",
    "        mean_discharge = cum_data_annual.iloc[:, 1:].mean(axis=1)\n",
    "        sd_discharge = sd_data_annual.iloc[:, 1:].mean(axis=1)\n",
    "\n",
    "        # Ajouter les courbes avec intervalle SD\n",
    "        plt.plot(cum_data_annual['Date'], mean_discharge, label=f'{scenario.upper()} - Mean ({season})', linestyle='-', marker='o')\n",
    "        plt.fill_between(cum_data_annual['Date'], \n",
    "                         mean_discharge - 15 * sd_discharge, \n",
    "                         mean_discharge + 15 * sd_discharge, \n",
    "                         alpha=0.2, label=f'{scenario.upper()} - SD Interval ({season})')\n",
    "\n",
    "    plt.title(f'Évolution des débits moyens et SD - {season.capitalize()}')\n",
    "    plt.xlabel('Année')\n",
    "    plt.ylabel('Débit (m³/s)')\n",
    "    plt.legend()\n",
    "    plt.grid()\n",
    "    plt.show()\n",
    "\n",
    "# Exemple d'utilisation\n",
    "visualize_by_season(\"hiver\")\n",
    "visualize_by_season(\"ete\")\n",
    "visualize_by_season(\"annee\")"
   ]
  },
  {
   "cell_type": "code",
   "execution_count": null,
   "id": "014fa710",
   "metadata": {},
   "outputs": [],
   "source": []
  }
 ],
 "metadata": {
  "jupytext": {
   "cell_metadata_filter": "-all",
   "notebook_metadata_filter": "-all",
   "text_representation": {
    "extension": ".md",
    "format_name": "markdown"
   }
  },
  "kernelspec": {
   "display_name": "Python 3 (ipykernel)",
   "language": "python",
   "name": "python3"
  }
 },
 "nbformat": 4,
 "nbformat_minor": 5
}
